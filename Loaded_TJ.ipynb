{
 "cells": [
  {
   "cell_type": "code",
   "execution_count": null,
   "metadata": {
    "id": "PI1bHrF7C_On"
   },
   "outputs": [],
   "source": [
    "# # 실행시 등장하는 URL을 클릭하여 허용해주면 인증KEY가 나타난다. 복사하여 URL아래 빈칸에 붙여넣으면 마운트에 성공하게된다.\n",
    "# from google.colab import drive\n",
    "# drive.mount('/content/drive')"
   ]
  },
  {
   "cell_type": "code",
   "execution_count": null,
   "metadata": {
    "id": "cetuCCTGQGvo"
   },
   "outputs": [],
   "source": [
    "# pip install torch torchvision"
   ]
  },
  {
   "cell_type": "code",
   "execution_count": 137,
   "metadata": {
    "id": "HG5_WM-QQGth"
   },
   "outputs": [
    {
     "name": "stdout",
     "output_type": "stream",
     "text": [
      "no cuda device\n"
     ]
    }
   ],
   "source": [
    "import torch\n",
    "\n",
    "if torch.cuda.is_available():\n",
    "  device_count = torch.cuda.device_count()\n",
    "  print(\"device_count: {}\".format(device_count))\n",
    "  for device_num in range(device_count):\n",
    "    print(\"device {} capability {}\".format(\n",
    "        device_num, torch.cuda.get_device_capability(device_num)))\n",
    "    print(\"device {} name {}\".format(\n",
    "        device_num, torch.cuda.get_device_name(device_num)))\n",
    "else:\n",
    "  print(\"no cuda device\")"
   ]
  },
  {
   "cell_type": "code",
   "execution_count": 138,
   "metadata": {
    "id": "cr1itXPHQGrQ"
   },
   "outputs": [],
   "source": [
    "from glob import glob\n",
    "import os\n",
    "import numpy as np\n",
    "import matplotlib.pyplot as plt\n",
    "import shutil\n",
    "from torchvision import transforms\n",
    "from torchvision import models\n",
    "import torch\n",
    "from torch.autograd import Variable\n",
    "import torch.nn as nn\n",
    "import torch.nn.functional as F\n",
    "from torch.optim import lr_scheduler\n",
    "from torch import optim\n",
    "from torchvision.datasets import ImageFolder\n",
    "from torchvision.utils import make_grid\n",
    "from torch.utils.data import Dataset,DataLoader\n",
    "import time\n",
    "from PIL import Image\n",
    "%matplotlib inline"
   ]
  },
  {
   "cell_type": "code",
   "execution_count": 139,
   "metadata": {
    "id": "5d7I-VFrQGpA"
   },
   "outputs": [
    {
     "name": "stdout",
     "output_type": "stream",
     "text": [
      "is_cuda: False\n"
     ]
    }
   ],
   "source": [
    "is_cuda=False\n",
    "if torch.cuda.is_available():\n",
    "    is_cuda = True\n",
    "print(\"is_cuda:\",is_cuda)"
   ]
  },
  {
   "cell_type": "code",
   "execution_count": 140,
   "metadata": {
    "id": "nO11AkZAQGjC"
   },
   "outputs": [],
   "source": [
    "#폴더안에 모든 파일 목록을 읽음\n",
    "path= \"C:\\dev\\Pytorch-workspace_class\"   \n",
    "\n",
    "simple_transform = transforms.Compose([transforms.Resize((48,48)),transforms.ToTensor(),transforms.Normalize([0.485, 0.456, 0.406], [0.229, 0.224, 0.225])])\n",
    "\n",
    "# train = ImageFolder(\"/content/drive/My Drive/data/emotion/train\",simple_transform)\n",
    "\n",
    "# valid = ImageFolder(\"C:\\dev\\Pytorch-workspace_class\",simple_transform)\n",
    "\n",
    "\n",
    "def imshow(inp):\n",
    "\n",
    "    \"\"\"Imshow for Tensor.\"\"\"\n",
    "\n",
    "    inp = inp.numpy().transpose((1, 2, 0))\n",
    "\n",
    "    mean = np.array([0.485, 0.456, 0.406])\n",
    "\n",
    "    std = np.array([0.229, 0.224, 0.225])\n",
    "\n",
    "    inp = std * inp + mean\n",
    "\n",
    "    inp = np.clip(inp, 0, 1)\n",
    "\n",
    "    plt.imshow(inp)\n",
    "\n",
    "   \n"
   ]
  },
  {
   "cell_type": "code",
   "execution_count": 141,
   "metadata": {
    "id": "eYWBzrkLQGRT"
   },
   "outputs": [],
   "source": [
    "class Net(nn.Module):\n",
    "\n",
    "    def __init__(self):\n",
    "\n",
    "        super().__init__()\n",
    "        self.conv1 = nn.Conv2d(3, 32, kernel_size=3,stride=1,padding=0)\n",
    "        self.conv2 = nn.Conv2d(32, 32, kernel_size=3,stride=1,padding=0)\n",
    "        self.conv2_drop = nn.Dropout2d(p=0.25)\n",
    "        self.conv2_drop = nn.Dropout2d(p=0.5)\n",
    "        self.fc1 = nn.Linear(32*22*22, 128)\n",
    "        self.fc2 = nn.Linear(128, 7)\n",
    "\n",
    "    def forward(self, x):\n",
    "        # print(\"x\", x.shape)\n",
    "        x= F.relu(self.conv1(x))\n",
    "        # print(\"x conv1 + relu : \", x.shape)\n",
    "        x=F.relu(self.conv2(x))\n",
    "        # print(\"x conv2 + relu : \", x.shape)\n",
    "        x=F.max_pool2d(x,2)\n",
    "        # print(\"x max pool(2) : \", x.shape)\n",
    "        x = F.dropout(x,p=0.25, training=self.training)\n",
    "        # print(\"x dropout : \", x.shape)\n",
    "        x=x.view(-1,32*22*22)\n",
    "        x=F.relu(self.fc1(x))\n",
    "        x = F.dropout(x,p=0.5, training=self.training)\n",
    "        x=self.fc2(x)\n",
    "\n",
    "        # print(\"x view : \", x.shape)\n",
    "        return F.log_softmax(x,dim=1)\n"
   ]
  },
  {
   "cell_type": "code",
   "execution_count": 150,
   "metadata": {
    "id": "zqW8NT6xQd7x"
   },
   "outputs": [
    {
     "data": {
      "text/plain": [
       "Net(\n",
       "  (conv1): Conv2d(3, 32, kernel_size=(3, 3), stride=(1, 1))\n",
       "  (conv2): Conv2d(32, 32, kernel_size=(3, 3), stride=(1, 1))\n",
       "  (conv2_drop): Dropout2d(p=0.5, inplace=False)\n",
       "  (fc1): Linear(in_features=15488, out_features=128, bias=True)\n",
       "  (fc2): Linear(in_features=128, out_features=7, bias=True)\n",
       ")"
      ]
     },
     "execution_count": 150,
     "metadata": {},
     "output_type": "execute_result"
    }
   ],
   "source": [
    "device=torch.device('cpu')\n",
    "# model = torch.load(path+'\\TJ_hoon.pt',map_location=device)\n",
    "model=Net()\n",
    "model.load_state_dict(torch.load(path+'\\TJ_hoon.pt',map_location=device))\n",
    "model.eval()"
   ]
  },
  {
   "cell_type": "code",
   "execution_count": 151,
   "metadata": {
    "id": "9AQPvhovQeAW",
    "scrolled": true
   },
   "outputs": [
    {
     "name": "stdout",
     "output_type": "stream",
     "text": [
      "tensor([2])\n"
     ]
    }
   ],
   "source": [
    "# data=ImageFolder(\"C:\\dev\\Pytorch-workspace_class\\images\", simple_transform)\n",
    "\n",
    "\n",
    "valid = ImageFolder(\"C:\\dev\\Pytorch-workspace_class\",simple_transform)\n",
    "\n",
    "validloader=DataLoader(valid)\n",
    "dataiter=iter(validloader)\n",
    "images,labels=dataiter.next()\n",
    "print(labels)\n"
   ]
  },
  {
   "cell_type": "code",
   "execution_count": 152,
   "metadata": {
    "id": "v-elBpTmQeIx"
   },
   "outputs": [
    {
     "data": {
      "image/png": "[encoded data removed]",
      "text/plain": [
       "<Figure size 432x288 with 1 Axes>"
      ]
     },
     "metadata": {
      "needs_background": "light"
     },
     "output_type": "display_data"
    }
   ],
   "source": [
    "imshow(make_grid(images))"
   ]
  },
  {
   "cell_type": "code",
   "execution_count": 153,
   "metadata": {
    "id": "c9iGQ2FYQd-j"
   },
   "outputs": [],
   "source": [
    "res=['angry','disgust','fear','happy','neutral','sad','surprise']"
   ]
  },
  {
   "cell_type": "code",
   "execution_count": 156,
   "metadata": {
    "id": "ng00qsmAQd1a"
   },
   "outputs": [
    {
     "data": {
      "text/plain": [
       "tensor([[-1.7901, -4.0175, -2.5847, -0.5719, -4.2837, -3.1426, -2.1354]],\n",
       "       grad_fn=<LogSoftmaxBackward>)"
      ]
     },
     "execution_count": 156,
     "metadata": {},
     "output_type": "execute_result"
    }
   ],
   "source": [
    "model(images)"
   ]
  },
  {
   "cell_type": "code",
   "execution_count": null,
   "metadata": {},
   "outputs": [],
   "source": []
  }
 ],
 "metadata": {
  "colab": {
   "authorship_tag": "ABX9TyOx5ihmahMbKavVC8Tq/qPG",
   "collapsed_sections": [],
   "name": "Loaded_TJ.ipynb",
   "private_outputs": true,
   "provenance": []
  },
  "kernelspec": {
   "display_name": "Python 3",
   "language": "python",
   "name": "python3"
  },
  "language_info": {
   "codemirror_mode": {
    "name": "ipython",
    "version": 3
   },
   "file_extension": ".py",
   "mimetype": "text/x-python",
   "name": "python",
   "nbconvert_exporter": "python",
   "pygments_lexer": "ipython3",
   "version": "3.8.5"
  }
 },
 "nbformat": 4,
 "nbformat_minor": 1
}

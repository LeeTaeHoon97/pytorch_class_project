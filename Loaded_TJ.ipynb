{
 "cells": [
  {
   "cell_type": "code",
   "execution_count": null,
   "metadata": {
    "id": "PI1bHrF7C_On"
   },
   "outputs": [],
   "source": [
    "# # 실행시 등장하는 URL을 클릭하여 허용해주면 인증KEY가 나타난다. 복사하여 URL아래 빈칸에 붙여넣으면 마운트에 성공하게된다.\n",
    "# from google.colab import drive\n",
    "# drive.mount('/content/drive')"
   ]
  },
  {
   "cell_type": "code",
   "execution_count": null,
   "metadata": {
    "id": "cetuCCTGQGvo"
   },
   "outputs": [],
   "source": [
    "# pip install torch torchvision"
   ]
  },
  {
   "cell_type": "code",
   "execution_count": 1,
   "metadata": {
    "id": "HG5_WM-QQGth"
   },
   "outputs": [
    {
     "name": "stdout",
     "output_type": "stream",
     "text": [
      "no cuda device\n"
     ]
    }
   ],
   "source": [
    "import torch\n",
    "\n",
    "if torch.cuda.is_available():\n",
    "  device_count = torch.cuda.device_count()\n",
    "  print(\"device_count: {}\".format(device_count))\n",
    "  for device_num in range(device_count):\n",
    "    print(\"device {} capability {}\".format(\n",
    "        device_num, torch.cuda.get_device_capability(device_num)))\n",
    "    print(\"device {} name {}\".format(\n",
    "        device_num, torch.cuda.get_device_name(device_num)))\n",
    "else:\n",
    "  print(\"no cuda device\")"
   ]
  },
  {
   "cell_type": "code",
   "execution_count": 2,
   "metadata": {
    "id": "cr1itXPHQGrQ"
   },
   "outputs": [],
   "source": [
    "from glob import glob\n",
    "import os\n",
    "import numpy as np\n",
    "import matplotlib.pyplot as plt\n",
    "import shutil\n",
    "from torchvision import transforms\n",
    "from torchvision import models\n",
    "import torch\n",
    "from torch.autograd import Variable\n",
    "import torch.nn as nn\n",
    "import torch.nn.functional as F\n",
    "from torch.optim import lr_scheduler\n",
    "from torch import optim\n",
    "from torchvision.datasets import ImageFolder\n",
    "from torchvision.utils import make_grid\n",
    "from torch.utils.data import Dataset,DataLoader\n",
    "import time\n",
    "from PIL import Image\n",
    "%matplotlib inline"
   ]
  },
  {
   "cell_type": "code",
   "execution_count": 3,
   "metadata": {
    "id": "5d7I-VFrQGpA"
   },
   "outputs": [
    {
     "name": "stdout",
     "output_type": "stream",
     "text": [
      "is_cuda: False\n"
     ]
    }
   ],
   "source": [
    "is_cuda=False\n",
    "if torch.cuda.is_available():\n",
    "    is_cuda = True\n",
    "print(\"is_cuda:\",is_cuda)"
   ]
  },
  {
   "cell_type": "code",
   "execution_count": 4,
   "metadata": {},
   "outputs": [],
   "source": [
    "#폴더안에 모든 파일 목록을 읽음\n",
    "path= \"C:\\dev\\Pytorch-workspace_class\"   "
   ]
  },
  {
   "cell_type": "code",
   "execution_count": 5,
   "metadata": {},
   "outputs": [],
   "source": [
    "\n",
    "path= \"C:\\Workspace\\pytorch_class_project\"#노트북용 "
   ]
  },
  {
   "cell_type": "code",
   "execution_count": 5,
   "metadata": {
    "id": "nO11AkZAQGjC"
   },
   "outputs": [],
   "source": [
    "\n",
    "simple_transform = transforms.Compose([transforms.Resize((224,224)),transforms.Grayscale(),transforms.ToTensor(),transforms.Normalize([0.485], [0.229])])\n",
    "# simple_transform = transforms.Compose([transforms.Resize((224,224)),transforms.ToTensor(),transforms.Normalize([0.485, 0.456, 0.406], [0.229, 0.224, 0.225])])\n",
    "\n",
    "# train = ImageFolder(\"/content/drive/My Drive/data/emotion/train\",simple_transform)\n",
    "\n",
    "# valid = ImageFolder(\"C:\\dev\\Pytorch-workspace_class\",simple_transform)\n",
    "\n",
    "\n",
    "def imshow(inp):\n",
    "\n",
    "    \"\"\"Imshow for Tensor.\"\"\"\n",
    "    \n",
    "    inp = inp.numpy().transpose((1, 2, 0))\n",
    "\n",
    "    mean = np.array([0.485, 0.456, 0.406])\n",
    "\n",
    "    std = np.array([0.229, 0.224, 0.225])\n",
    "\n",
    "    inp = std * inp + mean\n",
    "\n",
    "    inp = np.clip(inp, 0, 1)\n",
    "\n",
    "    plt.imshow(inp)\n",
    "\n",
    "   \n"
   ]
  },
  {
   "cell_type": "code",
   "execution_count": 6,
   "metadata": {
    "id": "eYWBzrkLQGRT"
   },
   "outputs": [],
   "source": [
    "class Net(nn.Module):\n",
    "\n",
    "    def __init__(self):\n",
    "\n",
    "        super().__init__()\n",
    "        self.conv1 = nn.Conv2d(3, 32, kernel_size=3,stride=1,padding=0)\n",
    "        self.conv2 = nn.Conv2d(32, 32, kernel_size=3,stride=1,padding=0)\n",
    "        self.conv2_drop = nn.Dropout2d(p=0.25)\n",
    "        self.conv2_drop = nn.Dropout2d(p=0.5)\n",
    "        self.fc1 = nn.Linear(32*22*22, 128)\n",
    "        self.fc2 = nn.Linear(128, 7)\n",
    "\n",
    "    def forward(self, x):\n",
    "        # print(\"x\", x.shape)\n",
    "        x= F.relu(self.conv1(x))\n",
    "        # print(\"x conv1 + relu : \", x.shape)\n",
    "        x=F.relu(self.conv2(x))\n",
    "        # print(\"x conv2 + relu : \", x.shape)\n",
    "        x=F.max_pool2d(x,2)\n",
    "        # print(\"x max pool(2) : \", x.shape)\n",
    "        x = F.dropout(x,p=0.25, training=self.training)\n",
    "        # print(\"x dropout : \", x.shape)\n",
    "        x=x.view(-1,32*22*22)\n",
    "        x=F.relu(self.fc1(x))\n",
    "        x = F.dropout(x,p=0.5, training=self.training)\n",
    "        x=self.fc2(x)\n",
    "\n",
    "        # print(\"x view : \", x.shape)\n",
    "        return F.log_softmax(x,dim=1)\n"
   ]
  },
  {
   "cell_type": "code",
   "execution_count": 7,
   "metadata": {},
   "outputs": [],
   "source": [
    "##TJ_mk2용 net\n",
    "#메모리 부족으로인한 배치사이즈 4변경 에폭 15 기준 적합, 이후 과적합 단 학습률 보장을위해 20회까지 돌림\n",
    "class Net(nn.Module):\n",
    "\n",
    "    def __init__(self):\n",
    "\n",
    "        super().__init__()\n",
    "\n",
    "        self.conv1 = nn.Conv2d(3, 64, kernel_size=3,stride=1,padding=0)\n",
    "\n",
    "        self.conv2 = nn.Conv2d(64, 64, kernel_size=3,stride=1,padding=0)\n",
    "        self.conv3 = nn.Conv2d(64, 128, kernel_size=3,stride=1,padding=0)\n",
    "        self.conv4 = nn.Conv2d(128, 256, kernel_size=3,stride=1,padding=0)\n",
    "        self.conv5 = nn.Conv2d(256, 128, kernel_size=3,stride=1,padding=0)\n",
    "        self.conv6 = nn.Conv2d(128, 64, kernel_size=3,stride=1,padding=1)\n",
    "        self.conv7 = nn.Conv2d(64, 32, kernel_size=3,stride=1,padding=0)\n",
    "\n",
    "\n",
    "        self.fc1 = nn.Linear(32*2*2, 256)\n",
    "        \n",
    "        self.fc2 = nn.Linear(256, 128)\n",
    "        self.fc3 = nn.Linear(128, 7)\n",
    "\n",
    "\n",
    "    def forward(self, x):\n",
    "        # print(\"x\", x.shape)\n",
    "        x= F.relu(self.conv1(x))\n",
    "        # print(\"x conv1 + relu : \", x.shape)\n",
    "        x=F.relu(self.conv2(x))\n",
    "        # print(\"x conv2 + relu : \", x.shape)\n",
    "        x=F.max_pool2d(x,2)\n",
    "        # print(\"x max pool(2) : \", x.shape)\n",
    "        x=F.relu(self.conv3(x))\n",
    "        \n",
    "        # print(\"x conv3 : \", x.shape)\n",
    "        x=F.max_pool2d(x,2)\n",
    "        x=F.relu(self.conv4(x))\n",
    "        \n",
    "        x=F.max_pool2d(x,2)\n",
    "        x=F.relu(self.conv5(x))\n",
    "        \n",
    "        x=F.max_pool2d(x,2,padding=1)\n",
    "        \n",
    "        x=F.relu(self.conv6(x))\n",
    "        x=F.max_pool2d(x,2,padding=1)\n",
    "\n",
    "        # print(\"x max pool(5) : \", x.shape)\n",
    "        x=F.relu(self.conv7(x))\n",
    "        x=F.max_pool2d(x,2,padding=0)\n",
    "        \n",
    "        # print(\"x max pool(5) : \", x.shape)\n",
    "\n",
    "        x = F.dropout(x,p=0.25, training=self.training)\n",
    "        # print(\"x dropout : \", x.shape)\n",
    "        x=x.view(-1,32*2*2)\n",
    "        x=F.relu(self.fc1(x))\n",
    "        x = F.dropout(x,p=0.5, training=self.training)\n",
    "        x=F.relu(self.fc2(x))\n",
    "        x=self.fc3(x)\n",
    "\n",
    "        return F.log_softmax(x,dim=1)\n",
    "\n",
    "      "
   ]
  },
  {
   "cell_type": "code",
   "execution_count": 9,
   "metadata": {},
   "outputs": [],
   "source": [
    "##TJ_mk3,4용 net\n",
    "#메모리 부족으로인한 배치사이즈 4변경 에폭 15 기준 적합, 이후 과적합 단 학습률 보장을위해 20회까지 돌림\n",
    "class Net(nn.Module):\n",
    "\n",
    "    def __init__(self):\n",
    "\n",
    "        super().__init__()\n",
    "\n",
    "        self.conv1 = nn.Conv2d(1, 64, kernel_size=3,stride=1,padding=0)\n",
    "\n",
    "        self.conv2 = nn.Conv2d(64, 64, kernel_size=3,stride=1,padding=0)\n",
    "        self.conv3 = nn.Conv2d(64, 128, kernel_size=3,stride=1,padding=0)\n",
    "        self.conv4 = nn.Conv2d(128, 256, kernel_size=3,stride=1,padding=0)\n",
    "        self.conv5 = nn.Conv2d(256, 128, kernel_size=3,stride=1,padding=0)\n",
    "        self.conv6 = nn.Conv2d(128, 64, kernel_size=3,stride=1,padding=1)\n",
    "        self.conv7 = nn.Conv2d(64, 32, kernel_size=3,stride=1,padding=0)\n",
    "\n",
    "\n",
    "        self.fc1 = nn.Linear(32*2*2, 256)\n",
    "        \n",
    "        self.fc2 = nn.Linear(256, 128)\n",
    "        self.fc3 = nn.Linear(128, 7)\n",
    "\n",
    "\n",
    "    def forward(self, x):\n",
    "        # print(\"x\", x.shape)\n",
    "        x= F.relu(self.conv1(x))\n",
    "        # print(\"x conv1 + relu : \", x.shape)\n",
    "        x=F.relu(self.conv2(x))\n",
    "        # print(\"x conv2 + relu : \", x.shape)\n",
    "        x=F.max_pool2d(x,2)\n",
    "        # print(\"x max pool(2) : \", x.shape)\n",
    "        x=F.relu(self.conv3(x))\n",
    "        \n",
    "        # print(\"x conv3 : \", x.shape)\n",
    "        x=F.max_pool2d(x,2)\n",
    "        x=F.relu(self.conv4(x))\n",
    "        \n",
    "        x=F.max_pool2d(x,2)\n",
    "        x=F.relu(self.conv5(x))\n",
    "        \n",
    "        x=F.max_pool2d(x,2,padding=1)\n",
    "        \n",
    "        x=F.relu(self.conv6(x))\n",
    "        x=F.max_pool2d(x,2,padding=1)\n",
    "\n",
    "        # print(\"x max pool(5) : \", x.shape)\n",
    "        x=F.relu(self.conv7(x))\n",
    "        x=F.max_pool2d(x,2,padding=0)\n",
    "        \n",
    "        # print(\"x max pool(5) : \", x.shape)\n",
    "\n",
    "        x = F.dropout(x,p=0.25, training=self.training)\n",
    "        # print(\"x dropout : \", x.shape)\n",
    "        x=x.view(-1,32*2*2)\n",
    "        x=F.relu(self.fc1(x))\n",
    "        x = F.dropout(x,p=0.5, training=self.training)\n",
    "        x=F.relu(self.fc2(x))\n",
    "        x=self.fc3(x)\n",
    "\n",
    "        return F.log_softmax(x,dim=1)\n",
    "\n",
    "      "
   ]
  },
  {
   "cell_type": "code",
   "execution_count": 8,
   "metadata": {},
   "outputs": [],
   "source": [
    "##TJ_mk6용 net\n",
    "#메모리 부족으로인한 배치사이즈 4변경 에폭 15 기준 적합, 이후 과적합 단 학습률 보장을위해 20회까지 돌림, 드롭아웃 재설정\n",
    "class Net(nn.Module):\n",
    "\n",
    "    def __init__(self):\n",
    "\n",
    "        super().__init__()\n",
    "\n",
    "        self.conv1 = nn.Conv2d(1, 64, kernel_size=3,stride=1,padding=0)\n",
    "\n",
    "        self.conv2 = nn.Conv2d(64, 64, kernel_size=3,stride=1,padding=0)\n",
    "        self.conv3 = nn.Conv2d(64, 128, kernel_size=3,stride=1,padding=0)\n",
    "        self.conv4 = nn.Conv2d(128, 256, kernel_size=3,stride=1,padding=0)\n",
    "        self.conv5 = nn.Conv2d(256, 128, kernel_size=3,stride=1,padding=0)\n",
    "        self.conv6 = nn.Conv2d(128, 64, kernel_size=3,stride=1,padding=1)\n",
    "        self.conv7 = nn.Conv2d(64, 32, kernel_size=3,stride=1,padding=0)\n",
    "\n",
    "\n",
    "        self.fc1 = nn.Linear(32*2*2, 256)\n",
    "        \n",
    "        self.fc2 = nn.Linear(256, 128)\n",
    "        self.fc3 = nn.Linear(128, 7)\n",
    "\n",
    "\n",
    "    def forward(self, x):\n",
    "        # print(\"x\", x.shape)\n",
    "        x= F.relu(self.conv1(x))\n",
    "        # print(\"x conv1 + relu : \", x.shape)\n",
    "        x=F.relu(self.conv2(x))\n",
    "        # print(\"x conv2 + relu : \", x.shape)\n",
    "        x=F.max_pool2d(x,2)\n",
    "        # print(\"x max pool(2) : \", x.shape)\n",
    "        x=F.relu(self.conv3(x))\n",
    "        \n",
    "        # print(\"x conv3 : \", x.shape)\n",
    "        x=F.max_pool2d(x,2)\n",
    "        x=F.relu(self.conv4(x))\n",
    "        \n",
    "        x=F.max_pool2d(x,2)\n",
    "        x=F.relu(self.conv5(x))\n",
    "        \n",
    "        x=F.max_pool2d(x,2,padding=1)\n",
    "        \n",
    "        x=F.relu(self.conv6(x))\n",
    "        x=F.max_pool2d(x,2,padding=1)\n",
    "\n",
    "        # print(\"x max pool(5) : \", x.shape)\n",
    "        x=F.relu(self.conv7(x))\n",
    "        x=F.max_pool2d(x,2,padding=0)\n",
    "        \n",
    "        # print(\"x max pool(5) : \", x.shape)\n",
    "\n",
    "        # print(\"x dropout : \", x.shape)\n",
    "        x=x.view(-1,32*2*2)\n",
    "        x=F.relu(self.fc1(x))\n",
    "        x = F.dropout(x,p=0.5, training=self.training)\n",
    "        x=F.relu(self.fc2(x))\n",
    "        x = F.dropout(x,p=0.5, training=self.training)\n",
    "        x=self.fc3(x)\n",
    "\n",
    "        return F.log_softmax(x,dim=1)\n",
    "\n",
    "      "
   ]
  },
  {
   "cell_type": "code",
   "execution_count": 9,
   "metadata": {
    "id": "zqW8NT6xQd7x"
   },
   "outputs": [
    {
     "data": {
      "text/plain": [
       "Net(\n",
       "  (conv1): Conv2d(1, 64, kernel_size=(3, 3), stride=(1, 1))\n",
       "  (conv2): Conv2d(64, 64, kernel_size=(3, 3), stride=(1, 1))\n",
       "  (conv3): Conv2d(64, 128, kernel_size=(3, 3), stride=(1, 1))\n",
       "  (conv4): Conv2d(128, 256, kernel_size=(3, 3), stride=(1, 1))\n",
       "  (conv5): Conv2d(256, 128, kernel_size=(3, 3), stride=(1, 1))\n",
       "  (conv6): Conv2d(128, 64, kernel_size=(3, 3), stride=(1, 1), padding=(1, 1))\n",
       "  (conv7): Conv2d(64, 32, kernel_size=(3, 3), stride=(1, 1))\n",
       "  (fc1): Linear(in_features=128, out_features=256, bias=True)\n",
       "  (fc2): Linear(in_features=256, out_features=128, bias=True)\n",
       "  (fc3): Linear(in_features=128, out_features=7, bias=True)\n",
       ")"
      ]
     },
     "execution_count": 9,
     "metadata": {},
     "output_type": "execute_result"
    }
   ],
   "source": [
    "device=torch.device('cpu')\n",
    "# model = torch.load(path+'\\TJ_hoon.pt',map_location=device)\n",
    "model=Net()\n",
    "model.load_state_dict(torch.load(path+'\\TJ_hoon_mk3.pt',map_location=device))\n",
    "model.eval()"
   ]
  },
  {
   "cell_type": "code",
   "execution_count": 10,
   "metadata": {},
   "outputs": [
    {
     "ename": "FileNotFoundError",
     "evalue": "[WinError 3] 지정된 경로를 찾을 수 없습니다: 'C:\\\\Workspace\\\\pytorch_class_project'",
     "output_type": "error",
     "traceback": [
      "\u001b[1;31m---------------------------------------------------------------------------\u001b[0m",
      "\u001b[1;31mFileNotFoundError\u001b[0m                         Traceback (most recent call last)",
      "\u001b[1;32m<ipython-input-10-c5232630d5f6>\u001b[0m in \u001b[0;36m<module>\u001b[1;34m\u001b[0m\n\u001b[1;32m----> 1\u001b[1;33m \u001b[0mvalid\u001b[0m \u001b[1;33m=\u001b[0m \u001b[0mImageFolder\u001b[0m\u001b[1;33m(\u001b[0m\u001b[1;34m\"C:\\Workspace\\pytorch_class_project\"\u001b[0m\u001b[1;33m,\u001b[0m\u001b[0msimple_transform\u001b[0m\u001b[1;33m)\u001b[0m\u001b[1;31m#노트북용\u001b[0m\u001b[1;33m\u001b[0m\u001b[1;33m\u001b[0m\u001b[0m\n\u001b[0m",
      "\u001b[1;32m~\\.conda\\envs\\pytorch_env\\lib\\site-packages\\torchvision\\datasets\\folder.py\u001b[0m in \u001b[0;36m__init__\u001b[1;34m(self, root, transform, target_transform, loader, is_valid_file)\u001b[0m\n\u001b[0;32m    203\u001b[0m     def __init__(self, root, transform=None, target_transform=None,\n\u001b[0;32m    204\u001b[0m                  loader=default_loader, is_valid_file=None):\n\u001b[1;32m--> 205\u001b[1;33m         super(ImageFolder, self).__init__(root, loader, IMG_EXTENSIONS if is_valid_file is None else None,\n\u001b[0m\u001b[0;32m    206\u001b[0m                                           \u001b[0mtransform\u001b[0m\u001b[1;33m=\u001b[0m\u001b[0mtransform\u001b[0m\u001b[1;33m,\u001b[0m\u001b[1;33m\u001b[0m\u001b[1;33m\u001b[0m\u001b[0m\n\u001b[0;32m    207\u001b[0m                                           \u001b[0mtarget_transform\u001b[0m\u001b[1;33m=\u001b[0m\u001b[0mtarget_transform\u001b[0m\u001b[1;33m,\u001b[0m\u001b[1;33m\u001b[0m\u001b[1;33m\u001b[0m\u001b[0m\n",
      "\u001b[1;32m~\\.conda\\envs\\pytorch_env\\lib\\site-packages\\torchvision\\datasets\\folder.py\u001b[0m in \u001b[0;36m__init__\u001b[1;34m(self, root, loader, extensions, transform, target_transform, is_valid_file)\u001b[0m\n\u001b[0;32m     92\u001b[0m         super(DatasetFolder, self).__init__(root, transform=transform,\n\u001b[0;32m     93\u001b[0m                                             target_transform=target_transform)\n\u001b[1;32m---> 94\u001b[1;33m         \u001b[0mclasses\u001b[0m\u001b[1;33m,\u001b[0m \u001b[0mclass_to_idx\u001b[0m \u001b[1;33m=\u001b[0m \u001b[0mself\u001b[0m\u001b[1;33m.\u001b[0m\u001b[0m_find_classes\u001b[0m\u001b[1;33m(\u001b[0m\u001b[0mself\u001b[0m\u001b[1;33m.\u001b[0m\u001b[0mroot\u001b[0m\u001b[1;33m)\u001b[0m\u001b[1;33m\u001b[0m\u001b[1;33m\u001b[0m\u001b[0m\n\u001b[0m\u001b[0;32m     95\u001b[0m         \u001b[0msamples\u001b[0m \u001b[1;33m=\u001b[0m \u001b[0mmake_dataset\u001b[0m\u001b[1;33m(\u001b[0m\u001b[0mself\u001b[0m\u001b[1;33m.\u001b[0m\u001b[0mroot\u001b[0m\u001b[1;33m,\u001b[0m \u001b[0mclass_to_idx\u001b[0m\u001b[1;33m,\u001b[0m \u001b[0mextensions\u001b[0m\u001b[1;33m,\u001b[0m \u001b[0mis_valid_file\u001b[0m\u001b[1;33m)\u001b[0m\u001b[1;33m\u001b[0m\u001b[1;33m\u001b[0m\u001b[0m\n\u001b[0;32m     96\u001b[0m         \u001b[1;32mif\u001b[0m \u001b[0mlen\u001b[0m\u001b[1;33m(\u001b[0m\u001b[0msamples\u001b[0m\u001b[1;33m)\u001b[0m \u001b[1;33m==\u001b[0m \u001b[1;36m0\u001b[0m\u001b[1;33m:\u001b[0m\u001b[1;33m\u001b[0m\u001b[1;33m\u001b[0m\u001b[0m\n",
      "\u001b[1;32m~\\.conda\\envs\\pytorch_env\\lib\\site-packages\\torchvision\\datasets\\folder.py\u001b[0m in \u001b[0;36m_find_classes\u001b[1;34m(self, dir)\u001b[0m\n\u001b[0;32m    121\u001b[0m             \u001b[0mNo\u001b[0m \u001b[1;32mclass\u001b[0m \u001b[1;32mis\u001b[0m \u001b[0ma\u001b[0m \u001b[0msubdirectory\u001b[0m \u001b[0mof\u001b[0m \u001b[0manother\u001b[0m\u001b[1;33m.\u001b[0m\u001b[1;33m\u001b[0m\u001b[1;33m\u001b[0m\u001b[0m\n\u001b[0;32m    122\u001b[0m         \"\"\"\n\u001b[1;32m--> 123\u001b[1;33m         \u001b[0mclasses\u001b[0m \u001b[1;33m=\u001b[0m \u001b[1;33m[\u001b[0m\u001b[0md\u001b[0m\u001b[1;33m.\u001b[0m\u001b[0mname\u001b[0m \u001b[1;32mfor\u001b[0m \u001b[0md\u001b[0m \u001b[1;32min\u001b[0m \u001b[0mos\u001b[0m\u001b[1;33m.\u001b[0m\u001b[0mscandir\u001b[0m\u001b[1;33m(\u001b[0m\u001b[0mdir\u001b[0m\u001b[1;33m)\u001b[0m \u001b[1;32mif\u001b[0m \u001b[0md\u001b[0m\u001b[1;33m.\u001b[0m\u001b[0mis_dir\u001b[0m\u001b[1;33m(\u001b[0m\u001b[1;33m)\u001b[0m\u001b[1;33m]\u001b[0m\u001b[1;33m\u001b[0m\u001b[1;33m\u001b[0m\u001b[0m\n\u001b[0m\u001b[0;32m    124\u001b[0m         \u001b[0mclasses\u001b[0m\u001b[1;33m.\u001b[0m\u001b[0msort\u001b[0m\u001b[1;33m(\u001b[0m\u001b[1;33m)\u001b[0m\u001b[1;33m\u001b[0m\u001b[1;33m\u001b[0m\u001b[0m\n\u001b[0;32m    125\u001b[0m         \u001b[0mclass_to_idx\u001b[0m \u001b[1;33m=\u001b[0m \u001b[1;33m{\u001b[0m\u001b[0mcls_name\u001b[0m\u001b[1;33m:\u001b[0m \u001b[0mi\u001b[0m \u001b[1;32mfor\u001b[0m \u001b[0mi\u001b[0m\u001b[1;33m,\u001b[0m \u001b[0mcls_name\u001b[0m \u001b[1;32min\u001b[0m \u001b[0menumerate\u001b[0m\u001b[1;33m(\u001b[0m\u001b[0mclasses\u001b[0m\u001b[1;33m)\u001b[0m\u001b[1;33m}\u001b[0m\u001b[1;33m\u001b[0m\u001b[1;33m\u001b[0m\u001b[0m\n",
      "\u001b[1;31mFileNotFoundError\u001b[0m: [WinError 3] 지정된 경로를 찾을 수 없습니다: 'C:\\\\Workspace\\\\pytorch_class_project'"
     ]
    }
   ],
   "source": [
    "valid = ImageFolder(\"C:\\Workspace\\pytorch_class_project\",simple_transform)#노트북용"
   ]
  },
  {
   "cell_type": "code",
   "execution_count": 38,
   "metadata": {},
   "outputs": [],
   "source": [
    "valid = ImageFolder(\"C:\\dev\\Pytorch-workspace_class\",simple_transform)"
   ]
  },
  {
   "cell_type": "code",
   "execution_count": 39,
   "metadata": {
    "id": "9AQPvhovQeAW",
    "scrolled": true
   },
   "outputs": [
    {
     "name": "stdout",
     "output_type": "stream",
     "text": [
      "tensor([3])\n"
     ]
    }
   ],
   "source": [
    "# data=ImageFolder(\"C:\\dev\\Pytorch-workspace_class\\images\", simple_transform)\n",
    "\n",
    "\n",
    "\n",
    "validloader=DataLoader(valid)\n",
    "dataiter=iter(validloader)\n",
    "images,labels=dataiter.next()\n",
    "print(labels)\n"
   ]
  },
  {
   "cell_type": "code",
   "execution_count": 57,
   "metadata": {
    "id": "v-elBpTmQeIx"
   },
   "outputs": [
    {
     "data": {
      "image/png": "[encoded data removed]",
      "text/plain": [
       "<Figure size 432x288 with 1 Axes>"
      ]
     },
     "metadata": {
      "needs_background": "light"
     },
     "output_type": "display_data"
    }
   ],
   "source": [
    "imshow(make_grid(images))"
   ]
  },
  {
   "cell_type": "code",
   "execution_count": 58,
   "metadata": {
    "id": "c9iGQ2FYQd-j"
   },
   "outputs": [],
   "source": [
    "res=['angry','disgust','fear','happy','neutral','sad','surprise']"
   ]
  },
  {
   "cell_type": "code",
   "execution_count": 59,
   "metadata": {
    "id": "ng00qsmAQd1a"
   },
   "outputs": [
    {
     "data": {
      "text/plain": [
       "'neutral'"
      ]
     },
     "execution_count": 59,
     "metadata": {},
     "output_type": "execute_result"
    }
   ],
   "source": [
    "(model(images).argmax(1))\n",
    "res[(model(images).argmax(1))]"
   ]
  },
  {
   "cell_type": "code",
   "execution_count": 109,
   "metadata": {},
   "outputs": [],
   "source": [
    "toList = torch.exp(model(images)).tolist()"
   ]
  },
  {
   "cell_type": "code",
   "execution_count": 110,
   "metadata": {},
   "outputs": [
    {
     "name": "stdout",
     "output_type": "stream",
     "text": [
      "[[0.09621187299489975, 0.000414855225244537, 0.038303375244140625, 0.0162758007645607, 0.735499918460846, 0.1072968989610672, 0.005997276399284601]]\n"
     ]
    }
   ],
   "source": [
    "print(toList)"
   ]
  },
  {
   "cell_type": "code",
   "execution_count": 112,
   "metadata": {},
   "outputs": [
    {
     "name": "stdout",
     "output_type": "stream",
     "text": [
      "[[9.6, 0.0, 3.8, 1.6, 73.5, 10.7, 0.6]]\n"
     ]
    }
   ],
   "source": [
    "toRoundedList=[[i*100 for i in nest]for nest in toList]\n",
    "toRoundedList = [[round(num,1) for num in nest]for nest in toRoundedList]\n",
    "print(toRoundedList)"
   ]
  },
  {
   "cell_type": "markdown",
   "metadata": {},
   "source": [
    "이부분부터 리턴해줘야됨"
   ]
  },
  {
   "cell_type": "code",
   "execution_count": 78,
   "metadata": {},
   "outputs": [
    {
     "name": "stdout",
     "output_type": "stream",
     "text": [
      "[1.2, 2.3, 3.5, 1.4]\n"
     ]
    }
   ],
   "source": [
    "a_list = [1.234, 2.345, 3.45, 1.45]\n",
    "round_to_tenths = [round(num, 1) for num in a_list]\n",
    "\n",
    "print(round_to_tenths)"
   ]
  },
  {
   "cell_type": "code",
   "execution_count": null,
   "metadata": {},
   "outputs": [],
   "source": []
  }
 ],
 "metadata": {
  "colab": {
   "authorship_tag": "ABX9TyOx5ihmahMbKavVC8Tq/qPG",
   "collapsed_sections": [],
   "name": "Loaded_TJ.ipynb",
   "private_outputs": true,
   "provenance": []
  },
  "kernelspec": {
   "display_name": "Python 3",
   "language": "python",
   "name": "python3"
  },
  "language_info": {
   "codemirror_mode": {
    "name": "ipython",
    "version": 3
   },
   "file_extension": ".py",
   "mimetype": "text/x-python",
   "name": "python",
   "nbconvert_exporter": "python",
   "pygments_lexer": "ipython3",
   "version": "3.8.5"
  }
 },
 "nbformat": 4,
 "nbformat_minor": 1
}
